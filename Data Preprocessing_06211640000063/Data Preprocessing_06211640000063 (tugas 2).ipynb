{
 "cells": [
  {
   "cell_type": "markdown",
   "metadata": {},
   "source": [
    "# Preprocessing Data\n",
    "## Data Cleaning (Missing value & Outlier)"
   ]
  },
  {
   "cell_type": "markdown",
   "metadata": {},
   "source": [
    "### Employee payroll data for Cook County employees\n",
    "#### Source: www.data.gov"
   ]
  },
  {
   "cell_type": "code",
   "execution_count": 1,
   "metadata": {},
   "outputs": [],
   "source": [
    "import pandas as pd\n",
    "import numpy as np\n",
    "from scipy.stats import mode\n",
    "from scipy import stats"
   ]
  },
  {
   "cell_type": "code",
   "execution_count": 2,
   "metadata": {},
   "outputs": [
    {
     "data": {
      "text/html": [
       "<div>\n",
       "<style scoped>\n",
       "    .dataframe tbody tr th:only-of-type {\n",
       "        vertical-align: middle;\n",
       "    }\n",
       "\n",
       "    .dataframe tbody tr th {\n",
       "        vertical-align: top;\n",
       "    }\n",
       "\n",
       "    .dataframe thead th {\n",
       "        text-align: right;\n",
       "    }\n",
       "</style>\n",
       "<table border=\"1\" class=\"dataframe\">\n",
       "  <thead>\n",
       "    <tr style=\"text-align: right;\">\n",
       "      <th></th>\n",
       "      <th>Fiscal Period</th>\n",
       "      <th>First Name</th>\n",
       "      <th>Middle Init</th>\n",
       "      <th>Bureau</th>\n",
       "      <th>Office Name</th>\n",
       "      <th>Job</th>\n",
       "      <th>Job Title</th>\n",
       "      <th>Base Pay</th>\n",
       "      <th>Employee Identifier</th>\n",
       "      <th>Original Hire Date</th>\n",
       "    </tr>\n",
       "  </thead>\n",
       "  <tbody>\n",
       "    <tr>\n",
       "      <th>0</th>\n",
       "      <td>2016Q1</td>\n",
       "      <td>LANCE</td>\n",
       "      <td>NaN</td>\n",
       "      <td>Sheriff</td>\n",
       "      <td>DEPARTMENT OF CORRECTIONS</td>\n",
       "      <td>1239.0</td>\n",
       "      <td>Deputy Sheriff D2B</td>\n",
       "      <td>16649.94</td>\n",
       "      <td>9505782.0</td>\n",
       "      <td>10/13/1998</td>\n",
       "    </tr>\n",
       "    <tr>\n",
       "      <th>1</th>\n",
       "      <td>2016Q1</td>\n",
       "      <td>DEBORAH</td>\n",
       "      <td>L</td>\n",
       "      <td>Clerk of Circuit Ct.</td>\n",
       "      <td>CLERK OF CRCT CRT OFF. OF CLER</td>\n",
       "      <td>1335.0</td>\n",
       "      <td>Court Clerk II</td>\n",
       "      <td>14045.69</td>\n",
       "      <td>9516186.0</td>\n",
       "      <td>12/07/1981</td>\n",
       "    </tr>\n",
       "    <tr>\n",
       "      <th>2</th>\n",
       "      <td>2016Q1</td>\n",
       "      <td>BRIAN</td>\n",
       "      <td>NaN</td>\n",
       "      <td>Sheriff</td>\n",
       "      <td>POLICE DEPARTMENT</td>\n",
       "      <td>1231.0</td>\n",
       "      <td>County Police Officer</td>\n",
       "      <td>20066.89</td>\n",
       "      <td>9505244.0</td>\n",
       "      <td>03/01/1989</td>\n",
       "    </tr>\n",
       "    <tr>\n",
       "      <th>3</th>\n",
       "      <td>2016Q1</td>\n",
       "      <td>MICHAEL</td>\n",
       "      <td>H</td>\n",
       "      <td>Sheriff</td>\n",
       "      <td>DEPARTMENT OF CORRECTIONS</td>\n",
       "      <td>1239.0</td>\n",
       "      <td>Correctional Officer</td>\n",
       "      <td>16867.12</td>\n",
       "      <td>9508862.0</td>\n",
       "      <td>07/01/1991</td>\n",
       "    </tr>\n",
       "    <tr>\n",
       "      <th>4</th>\n",
       "      <td>2016Q1</td>\n",
       "      <td>KEVIN</td>\n",
       "      <td>T</td>\n",
       "      <td>Sheriff</td>\n",
       "      <td>DEPARTMENT OF CORRECTIONS</td>\n",
       "      <td>1239.0</td>\n",
       "      <td>Correctional Officer</td>\n",
       "      <td>11953.60</td>\n",
       "      <td>700324.0</td>\n",
       "      <td>06/15/2015</td>\n",
       "    </tr>\n",
       "  </tbody>\n",
       "</table>\n",
       "</div>"
      ],
      "text/plain": [
       "  Fiscal Period First Name Middle Init                Bureau  \\\n",
       "0        2016Q1      LANCE         NaN               Sheriff   \n",
       "1        2016Q1    DEBORAH           L  Clerk of Circuit Ct.   \n",
       "2        2016Q1      BRIAN         NaN               Sheriff   \n",
       "3        2016Q1    MICHAEL           H               Sheriff   \n",
       "4        2016Q1      KEVIN           T               Sheriff   \n",
       "\n",
       "                      Office Name     Job              Job Title  Base Pay  \\\n",
       "0       DEPARTMENT OF CORRECTIONS  1239.0     Deputy Sheriff D2B  16649.94   \n",
       "1  CLERK OF CRCT CRT OFF. OF CLER  1335.0         Court Clerk II  14045.69   \n",
       "2               POLICE DEPARTMENT  1231.0  County Police Officer  20066.89   \n",
       "3       DEPARTMENT OF CORRECTIONS  1239.0   Correctional Officer  16867.12   \n",
       "4       DEPARTMENT OF CORRECTIONS  1239.0   Correctional Officer  11953.60   \n",
       "\n",
       "   Employee Identifier Original Hire Date  \n",
       "0            9505782.0         10/13/1998  \n",
       "1            9516186.0         12/07/1981  \n",
       "2            9505244.0         03/01/1989  \n",
       "3            9508862.0         07/01/1991  \n",
       "4             700324.0         06/15/2015  "
      ]
     },
     "execution_count": 2,
     "metadata": {},
     "output_type": "execute_result"
    }
   ],
   "source": [
    "EP = pd.read_csv(\"D:/DATA MINING/EP.csv\",sep=\";\")\n",
    "EP.head()"
   ]
  },
  {
   "cell_type": "code",
   "execution_count": 3,
   "metadata": {},
   "outputs": [
    {
     "data": {
      "text/html": [
       "<div>\n",
       "<style scoped>\n",
       "    .dataframe tbody tr th:only-of-type {\n",
       "        vertical-align: middle;\n",
       "    }\n",
       "\n",
       "    .dataframe tbody tr th {\n",
       "        vertical-align: top;\n",
       "    }\n",
       "\n",
       "    .dataframe thead th {\n",
       "        text-align: right;\n",
       "    }\n",
       "</style>\n",
       "<table border=\"1\" class=\"dataframe\">\n",
       "  <thead>\n",
       "    <tr style=\"text-align: right;\">\n",
       "      <th></th>\n",
       "      <th>Job</th>\n",
       "      <th>Base Pay</th>\n",
       "      <th>Employee Identifier</th>\n",
       "    </tr>\n",
       "  </thead>\n",
       "  <tbody>\n",
       "    <tr>\n",
       "      <th>count</th>\n",
       "      <td>3056.000000</td>\n",
       "      <td>3074.000000</td>\n",
       "      <td>2.918000e+03</td>\n",
       "    </tr>\n",
       "    <tr>\n",
       "      <th>mean</th>\n",
       "      <td>2378.669830</td>\n",
       "      <td>14995.055264</td>\n",
       "      <td>7.651281e+06</td>\n",
       "    </tr>\n",
       "    <tr>\n",
       "      <th>std</th>\n",
       "      <td>1665.653727</td>\n",
       "      <td>9127.483003</td>\n",
       "      <td>3.578267e+06</td>\n",
       "    </tr>\n",
       "    <tr>\n",
       "      <th>min</th>\n",
       "      <td>1007.000000</td>\n",
       "      <td>0.000000</td>\n",
       "      <td>5.370000e+02</td>\n",
       "    </tr>\n",
       "    <tr>\n",
       "      <th>25%</th>\n",
       "      <td>1239.000000</td>\n",
       "      <td>10834.562500</td>\n",
       "      <td>9.501586e+06</td>\n",
       "    </tr>\n",
       "    <tr>\n",
       "      <th>50%</th>\n",
       "      <td>1300.000000</td>\n",
       "      <td>14424.190000</td>\n",
       "      <td>9.508922e+06</td>\n",
       "    </tr>\n",
       "    <tr>\n",
       "      <th>75%</th>\n",
       "      <td>4891.000000</td>\n",
       "      <td>17556.302500</td>\n",
       "      <td>9.517469e+06</td>\n",
       "    </tr>\n",
       "    <tr>\n",
       "      <th>max</th>\n",
       "      <td>4898.000000</td>\n",
       "      <td>88846.200000</td>\n",
       "      <td>9.935075e+06</td>\n",
       "    </tr>\n",
       "  </tbody>\n",
       "</table>\n",
       "</div>"
      ],
      "text/plain": [
       "               Job      Base Pay  Employee Identifier\n",
       "count  3056.000000   3074.000000         2.918000e+03\n",
       "mean   2378.669830  14995.055264         7.651281e+06\n",
       "std    1665.653727   9127.483003         3.578267e+06\n",
       "min    1007.000000      0.000000         5.370000e+02\n",
       "25%    1239.000000  10834.562500         9.501586e+06\n",
       "50%    1300.000000  14424.190000         9.508922e+06\n",
       "75%    4891.000000  17556.302500         9.517469e+06\n",
       "max    4898.000000  88846.200000         9.935075e+06"
      ]
     },
     "execution_count": 3,
     "metadata": {},
     "output_type": "execute_result"
    }
   ],
   "source": [
    "#statistika deskriptif\n",
    "\n",
    "EP.describe()"
   ]
  },
  {
   "cell_type": "code",
   "execution_count": 4,
   "metadata": {},
   "outputs": [
    {
     "data": {
      "text/plain": [
       "Fiscal Period             0\n",
       "First Name                0\n",
       "Middle Init            1224\n",
       "Bureau                  124\n",
       "Office Name              23\n",
       "Job                      23\n",
       "Job Title                15\n",
       "Base Pay                  5\n",
       "Employee Identifier     161\n",
       "Original Hire Date        0\n",
       "dtype: int64"
      ]
     },
     "execution_count": 4,
     "metadata": {},
     "output_type": "execute_result"
    }
   ],
   "source": [
    "#missing value\n",
    "\n",
    "np.sum(EP.isnull())"
   ]
  },
  {
   "cell_type": "code",
   "execution_count": 5,
   "metadata": {},
   "outputs": [
    {
     "data": {
      "text/plain": [
       "Fiscal Period             0\n",
       "First Name                0\n",
       "Middle Init            1224\n",
       "Bureau                  124\n",
       "Office Name              23\n",
       "Job                       0\n",
       "Job Title                15\n",
       "Base Pay                  0\n",
       "Employee Identifier       0\n",
       "Original Hire Date        0\n",
       "dtype: int64"
      ]
     },
     "execution_count": 5,
     "metadata": {},
     "output_type": "execute_result"
    }
   ],
   "source": [
    "#imputasi dengan mean\n",
    "\n",
    "EP['Job'] = EP['Job'].fillna(EP['Job'].mean())\n",
    "EP['Base Pay'] = EP['Base Pay'].fillna(EP['Base Pay'].mean())\n",
    "EP['Employee Identifier'] = EP['Employee Identifier'].fillna(EP['Employee Identifier'].mean())\n",
    "np.sum(EP.isnull())"
   ]
  },
  {
   "cell_type": "code",
   "execution_count": 6,
   "metadata": {},
   "outputs": [
    {
     "name": "stdout",
     "output_type": "stream",
     "text": [
      "[0    A\n",
      "dtype: object] [0    Bureau of Health\n",
      "dtype: object] [0    DEPARTMENT OF CORRECTIONS\n",
      "dtype: object] [0    Correctional Officer\n",
      "dtype: object]\n"
     ]
    }
   ],
   "source": [
    "#modus\n",
    "\n",
    "print([EP['Middle Init'].mode()],\n",
    "      [EP['Bureau'].mode()],\n",
    "      [EP['Office Name'].mode()],\n",
    "      [EP['Job Title'].mode()])"
   ]
  },
  {
   "cell_type": "code",
   "execution_count": 7,
   "metadata": {},
   "outputs": [
    {
     "data": {
      "text/plain": [
       "Fiscal Period          0\n",
       "First Name             0\n",
       "Middle Init            0\n",
       "Bureau                 0\n",
       "Office Name            0\n",
       "Job                    0\n",
       "Job Title              0\n",
       "Base Pay               0\n",
       "Employee Identifier    0\n",
       "Original Hire Date     0\n",
       "dtype: int64"
      ]
     },
     "execution_count": 7,
     "metadata": {},
     "output_type": "execute_result"
    }
   ],
   "source": [
    "#imputasi ddengan modus \n",
    "\n",
    "EP['Middle Init']=EP['Middle Init'].fillna(EP['Middle Init']).dropna().mode()[0]\n",
    "EP['Bureau']=EP['Bureau'].fillna(EP['Bureau']).dropna().mode()[0]\n",
    "EP['Office Name']=EP['Office Name'].fillna(EP['Office Name']).dropna().mode()[0]\n",
    "EP['Job Title']=EP['Job Title'].fillna(EP['Job Title']).dropna().mode()[0]\n",
    "np.sum(EP.isnull())"
   ]
  },
  {
   "cell_type": "code",
   "execution_count": 8,
   "metadata": {},
   "outputs": [
    {
     "name": "stdout",
     "output_type": "stream",
     "text": [
      "[[0.68690008 0.18148481 0.53246486]\n",
      " [0.62903911 0.10411322 0.53545206]\n",
      " [0.69172183 0.5562085  0.53231039]\n",
      " ...\n",
      " [0.68027018 0.07510324 1.76604891]\n",
      " [0.80081388 0.43190419 0.53116793]\n",
      " [0.70437892 0.31987805 0.53157076]]\n",
      "(3018, 10)\n"
     ]
    }
   ],
   "source": [
    "#mengatasi outlier\n",
    "\n",
    "EP1=EP.drop(['Fiscal Period','First Name','Middle Init','Bureau','Office Name','Job Title','Original Hire Date'],1)\n",
    "z = np.abs(stats.zscore(EP1._get_numeric_data()))\n",
    "print(z)\n",
    "EP=EP[(z<3).all(axis=1)]\n",
    "print(EP.shape)"
   ]
  },
  {
   "cell_type": "code",
   "execution_count": 9,
   "metadata": {},
   "outputs": [
    {
     "data": {
      "text/html": [
       "<div>\n",
       "<style scoped>\n",
       "    .dataframe tbody tr th:only-of-type {\n",
       "        vertical-align: middle;\n",
       "    }\n",
       "\n",
       "    .dataframe tbody tr th {\n",
       "        vertical-align: top;\n",
       "    }\n",
       "\n",
       "    .dataframe thead th {\n",
       "        text-align: right;\n",
       "    }\n",
       "</style>\n",
       "<table border=\"1\" class=\"dataframe\">\n",
       "  <thead>\n",
       "    <tr style=\"text-align: right;\">\n",
       "      <th></th>\n",
       "      <th>Fiscal Period</th>\n",
       "      <th>First Name</th>\n",
       "      <th>Middle Init</th>\n",
       "      <th>Bureau</th>\n",
       "      <th>Office Name</th>\n",
       "      <th>Job</th>\n",
       "      <th>Job Title</th>\n",
       "      <th>Base Pay</th>\n",
       "      <th>Employee Identifier</th>\n",
       "      <th>Original Hire Date</th>\n",
       "    </tr>\n",
       "  </thead>\n",
       "  <tbody>\n",
       "    <tr>\n",
       "      <th>0</th>\n",
       "      <td>2016Q1</td>\n",
       "      <td>LANCE</td>\n",
       "      <td>A</td>\n",
       "      <td>Bureau of Health</td>\n",
       "      <td>DEPARTMENT OF CORRECTIONS</td>\n",
       "      <td>1239.0</td>\n",
       "      <td>Correctional Officer</td>\n",
       "      <td>16649.94</td>\n",
       "      <td>9505782.0</td>\n",
       "      <td>10/13/1998</td>\n",
       "    </tr>\n",
       "    <tr>\n",
       "      <th>1</th>\n",
       "      <td>2016Q1</td>\n",
       "      <td>DEBORAH</td>\n",
       "      <td>A</td>\n",
       "      <td>Bureau of Health</td>\n",
       "      <td>DEPARTMENT OF CORRECTIONS</td>\n",
       "      <td>1335.0</td>\n",
       "      <td>Correctional Officer</td>\n",
       "      <td>14045.69</td>\n",
       "      <td>9516186.0</td>\n",
       "      <td>12/07/1981</td>\n",
       "    </tr>\n",
       "    <tr>\n",
       "      <th>2</th>\n",
       "      <td>2016Q1</td>\n",
       "      <td>BRIAN</td>\n",
       "      <td>A</td>\n",
       "      <td>Bureau of Health</td>\n",
       "      <td>DEPARTMENT OF CORRECTIONS</td>\n",
       "      <td>1231.0</td>\n",
       "      <td>Correctional Officer</td>\n",
       "      <td>20066.89</td>\n",
       "      <td>9505244.0</td>\n",
       "      <td>03/01/1989</td>\n",
       "    </tr>\n",
       "    <tr>\n",
       "      <th>3</th>\n",
       "      <td>2016Q1</td>\n",
       "      <td>MICHAEL</td>\n",
       "      <td>A</td>\n",
       "      <td>Bureau of Health</td>\n",
       "      <td>DEPARTMENT OF CORRECTIONS</td>\n",
       "      <td>1239.0</td>\n",
       "      <td>Correctional Officer</td>\n",
       "      <td>16867.12</td>\n",
       "      <td>9508862.0</td>\n",
       "      <td>07/01/1991</td>\n",
       "    </tr>\n",
       "    <tr>\n",
       "      <th>4</th>\n",
       "      <td>2016Q1</td>\n",
       "      <td>KEVIN</td>\n",
       "      <td>A</td>\n",
       "      <td>Bureau of Health</td>\n",
       "      <td>DEPARTMENT OF CORRECTIONS</td>\n",
       "      <td>1239.0</td>\n",
       "      <td>Correctional Officer</td>\n",
       "      <td>11953.60</td>\n",
       "      <td>700324.0</td>\n",
       "      <td>06/15/2015</td>\n",
       "    </tr>\n",
       "  </tbody>\n",
       "</table>\n",
       "</div>"
      ],
      "text/plain": [
       "  Fiscal Period First Name Middle Init            Bureau  \\\n",
       "0        2016Q1      LANCE           A  Bureau of Health   \n",
       "1        2016Q1    DEBORAH           A  Bureau of Health   \n",
       "2        2016Q1      BRIAN           A  Bureau of Health   \n",
       "3        2016Q1    MICHAEL           A  Bureau of Health   \n",
       "4        2016Q1      KEVIN           A  Bureau of Health   \n",
       "\n",
       "                 Office Name     Job             Job Title  Base Pay  \\\n",
       "0  DEPARTMENT OF CORRECTIONS  1239.0  Correctional Officer  16649.94   \n",
       "1  DEPARTMENT OF CORRECTIONS  1335.0  Correctional Officer  14045.69   \n",
       "2  DEPARTMENT OF CORRECTIONS  1231.0  Correctional Officer  20066.89   \n",
       "3  DEPARTMENT OF CORRECTIONS  1239.0  Correctional Officer  16867.12   \n",
       "4  DEPARTMENT OF CORRECTIONS  1239.0  Correctional Officer  11953.60   \n",
       "\n",
       "   Employee Identifier Original Hire Date  \n",
       "0            9505782.0         10/13/1998  \n",
       "1            9516186.0         12/07/1981  \n",
       "2            9505244.0         03/01/1989  \n",
       "3            9508862.0         07/01/1991  \n",
       "4             700324.0         06/15/2015  "
      ]
     },
     "execution_count": 9,
     "metadata": {},
     "output_type": "execute_result"
    }
   ],
   "source": [
    "EP.head()"
   ]
  }
 ],
 "metadata": {
  "kernelspec": {
   "display_name": "Python 3",
   "language": "python",
   "name": "python3"
  },
  "language_info": {
   "codemirror_mode": {
    "name": "ipython",
    "version": 3
   },
   "file_extension": ".py",
   "mimetype": "text/x-python",
   "name": "python",
   "nbconvert_exporter": "python",
   "pygments_lexer": "ipython3",
   "version": "3.7.1"
  }
 },
 "nbformat": 4,
 "nbformat_minor": 2
}
